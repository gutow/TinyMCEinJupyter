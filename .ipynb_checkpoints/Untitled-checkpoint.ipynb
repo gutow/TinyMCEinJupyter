{
 "cells": [
  {
   "cell_type": "code",
   "execution_count": 1,
   "metadata": {},
   "outputs": [
    {
     "data": {
      "text/html": [
       "<script type=\"text/javascript\" src=\"tinymce/js/tinymce/tinymce.min.js\"></script>\n"
      ],
      "text/plain": [
       "<IPython.core.display.HTML object>"
      ]
     },
     "metadata": {},
     "output_type": "display_data"
    },
    {
     "data": {
      "text/html": [
       "<script type=\"text/javascript\" src=\"tinyMCECell.js\"></script>\n"
      ],
      "text/plain": [
       "<IPython.core.display.HTML object>"
      ]
     },
     "metadata": {},
     "output_type": "display_data"
    }
   ],
   "source": [
    "from IPython.display import HTML\n",
    "from IPython.display import Javascript as JS\n",
    "\n",
    "import os\n",
    "\n",
    "#Locate tinymce package directory\n",
    "#mydir=os.path.dirname(__file__) #absolute path to directory containing this file.\n",
    "mydir=os.getcwd()\n",
    "\n",
    "#Try loading in tinymce\n",
    "#load the supporting javascript\n",
    "#tempJSfile=os.path.join('tinymce','js','tinymce','tinymce.min.js')\n",
    "#tempscript='<script type=\"text/javascript\" src=\"'+str(tempJSfile)+'\"></script>\\n'\n",
    "#display(HTML(tempscript))\n",
    "\n",
    "tempJSfile='tinyMCECell.js'\n",
    "tempscript='<script type=\"text/javascript\" src=\"'+str(tempJSfile)+'\"></script>\\n'\n",
    "display(HTML(tempscript))"
   ]
  },
  {
   "cell_type": "code",
   "execution_count": 2,
   "metadata": {},
   "outputs": [
    {
     "data": {
      "application/javascript": [
       "var button = document.getElementById('toTinyMCEbtn');\n",
       "button.parentNode.removeChild(button);\n"
      ],
      "text/plain": [
       "<IPython.core.display.Javascript object>"
      ]
     },
     "metadata": {},
     "output_type": "display_data"
    }
   ],
   "source": [
    "%%javascript\n",
    "var button = document.getElementById('toTinyMCEbtn');\n",
    "button.parentNode.removeChild(button);"
   ]
  },
  {
   "cell_type": "code",
   "execution_count": null,
   "metadata": {},
   "outputs": [],
   "source": []
  }
 ],
 "metadata": {
  "kernelspec": {
   "display_name": "Python 3",
   "language": "python",
   "name": "python3"
  },
  "language_info": {
   "codemirror_mode": {
    "name": "ipython",
    "version": 3
   },
   "file_extension": ".py",
   "mimetype": "text/x-python",
   "name": "python",
   "nbconvert_exporter": "python",
   "pygments_lexer": "ipython3",
   "version": "3.7.1"
  }
 },
 "nbformat": 4,
 "nbformat_minor": 2
}
