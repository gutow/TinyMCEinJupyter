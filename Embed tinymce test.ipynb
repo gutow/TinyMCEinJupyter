{
 "cells": [
  {
   "cell_type": "code",
   "execution_count": 8,
   "metadata": {},
   "outputs": [
    {
     "data": {
      "text/html": [
       "<script type=\"text/javascript\" src=\"tinymce/js/tinymce/tinymce.min.js\"></script>\n"
      ],
      "text/plain": [
       "<IPython.core.display.HTML object>"
      ]
     },
     "metadata": {},
     "output_type": "display_data"
    }
   ],
   "source": [
    "from IPython.display import HTML\n",
    "from IPython.display import Javascript as JS\n",
    "\n",
    "import os\n",
    "\n",
    "#Locate tinymce package directory\n",
    "#mydir=os.path.dirname(__file__) #absolute path to directory containing this file.\n",
    "mydir=os.getcwd()\n",
    "\n",
    "#Try loading in tinymce\n",
    "#load the supporting javascript\n",
    "tempJSfile=os.path.join('tinymce','js','tinymce','tinymce.min.js')\n",
    "tempscript='<script type=\"text/javascript\" src=\"'+str(tempJSfile)+'\"></script>\\n'\n",
    "display(HTML(tempscript))\n"
   ]
  },
  {
   "cell_type": "code",
   "execution_count": 78,
   "metadata": {},
   "outputs": [
    {
     "data": {
      "text/html": [
       "<script type=\"text/javascript\">function findme(){var currentcell = Jupyter.notebook.get_selected_cell();alert(currentcell.input[0]);alert(\"currentcell input node class: \"+currentcell.input[0].className);alert(\"currentcell input node first child: \"+currentcell.input[0].childNodes[0].className);alert(\"currentcell input node 2nd child:\"+currentcell.input[0].childNodes[1].className);var inputarea=currentcell.input[0].childNodes[1].childNodes[1];alert(\"class for input area of current cell: \"+inputarea.className);alert(\"content of input area: \"+inputarea.innerHTML);btn=$(\"#find_me\");alert(btn[0].id);}</script>\n",
       "<button id=\"find_me\" onclick=\"findme()\">Find Me</button>\n"
      ],
      "text/plain": [
       "<IPython.core.display.HTML object>"
      ]
     },
     "metadata": {},
     "output_type": "display_data"
    }
   ],
   "source": [
    "from IPython.display import HTML\n",
    "from IPython.display import Javascript as JS\n",
    "buttonstr='<button id=\"find_me\" onclick=\"findme()\">Find Me</button>\\n'\n",
    "scriptstr='<script type=\"text/javascript\">'\n",
    "scriptstr+='function findme(){'\n",
    "scriptstr+='var currentcell = Jupyter.notebook.get_selected_cell();'\n",
    "scriptstr+='alert(currentcell.input[0]);'\n",
    "scriptstr+='alert(\"currentcell input node class: \"+currentcell.input[0].className);'\n",
    "scriptstr+='alert(\"currentcell input node first child: \"+currentcell.input[0].childNodes[0].className);'\n",
    "scriptstr+='alert(\"currentcell input node 2nd child:\"+currentcell.input[0].childNodes[1].className);'\n",
    "scriptstr+='var inputarea=currentcell.input[0].childNodes[1].childNodes[1];'\n",
    "scriptstr+='alert(\"class for input area of current cell: \"+inputarea.className);'\n",
    "scriptstr+='alert(\"content of input area: \"+inputarea.innerHTML);'\n",
    "scriptstr+='btn=$(\"#find_me\");'\n",
    "scriptstr+='alert(btn[0].id);'\n",
    "scriptstr+='}'\n",
    "scriptstr+='</script>\\n'\n",
    "display(HTML(scriptstr+buttonstr))"
   ]
  },
  {
   "cell_type": "raw",
   "metadata": {},
   "source": [
    "this will show whatever I put in it. <div>...</div>"
   ]
  },
  {
   "cell_type": "code",
   "execution_count": null,
   "metadata": {},
   "outputs": [],
   "source": []
  }
 ],
 "metadata": {
  "kernelspec": {
   "display_name": "Python 3",
   "language": "python",
   "name": "python3"
  },
  "language_info": {
   "codemirror_mode": {
    "name": "ipython",
    "version": 3
   },
   "file_extension": ".py",
   "mimetype": "text/x-python",
   "name": "python",
   "nbconvert_exporter": "python",
   "pygments_lexer": "ipython3",
   "version": "3.6.7"
  }
 },
 "nbformat": 4,
 "nbformat_minor": 2
}
